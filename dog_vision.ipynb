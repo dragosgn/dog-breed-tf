{
  "nbformat": 4,
  "nbformat_minor": 0,
  "metadata": {
    "colab": {
      "name": "dog-vision.ipynb",
      "provenance": [],
      "collapsed_sections": [],
      "toc_visible": true,
      "mount_file_id": "1qnM3L9e3oocrxMqlvntR-rMHip9tacXV",
      "authorship_tag": "ABX9TyN7Ou8nAHEBa6HiAMSfIWPG",
      "include_colab_link": true
    },
    "kernelspec": {
      "name": "python3",
      "display_name": "Python 3"
    },
    "accelerator": "GPU"
  },
  "cells": [
    {
      "cell_type": "markdown",
      "metadata": {
        "id": "view-in-github",
        "colab_type": "text"
      },
      "source": [
        "<a href=\"https://colab.research.google.com/github/dragosgn/dog-breed-tf/blob/master/dog_vision.ipynb\" target=\"_parent\"><img src=\"https://colab.research.google.com/assets/colab-badge.svg\" alt=\"Open In Colab\"/></a>"
      ]
    },
    {
      "cell_type": "markdown",
      "metadata": {
        "id": "o_oa049rTujh",
        "colab_type": "text"
      },
      "source": [
        "# 🐶 End to end Multi-class Dog Breed Classification\n",
        "\n",
        "This notebook builds an end-to-end multi-class image classifier using TensorFlow 2.0 and TensorFlow Hub.\n",
        "\n",
        "## 1. Problem\n",
        "\n",
        "Identifying the breed of a dog given an image of a dog.\n",
        "\n",
        "When I'am sitting at a cafe and I take a photo of a dog, I want to know what breed of dog it is.\n",
        "\n",
        "## 2. Data\n",
        "\n",
        "The data we are using is from Kaggle's dog breed identification competition.\n",
        "\n",
        "https://www.kaggle.com/c/dog-breed-identification/data\n",
        "\n",
        "## 3. Evaluation\n",
        "\n",
        "The evaluation is a file with prediction probabilities for each dog breed of each test image.\n",
        "\n",
        "https://www.kaggle.com/c/dog-breed-identification/overview/evaluation\n",
        "\n",
        "## 4. Features\n",
        "\n",
        "Some information about the data:\n",
        "* We're dealing with images (unstructured data) so it's probably better we use deep learning/transfer learning.\n",
        "* There are 120 breeds of dogs (this means there are 120 diffrerent classes).\n",
        "* There are around 10,000+ images in the training set (these images have labels)\n",
        "* There are around 10,000+ images in the test set (these images have no lables, because we will want to predict them)\n",
        "\n",
        "\n"
      ]
    },
    {
      "cell_type": "code",
      "metadata": {
        "id": "kZMW4hQswclv",
        "colab_type": "code",
        "colab": {}
      },
      "source": [
        "# Unzip the provided data\n",
        "# !unzip \"drive/My Drive/Dog Vision/dog-breed-identification.zip\" -d \"drive/My Drive/Dog Vision/\""
      ],
      "execution_count": 0,
      "outputs": []
    },
    {
      "cell_type": "markdown",
      "metadata": {
        "id": "bS9toZffWy-K",
        "colab_type": "text"
      },
      "source": [
        "# Get our workspace ready\n",
        "\n",
        "* Import Tensorflow 2.x\n",
        "* Import TensorFlow Hub\n",
        "* Make sure we're using a GPU"
      ]
    },
    {
      "cell_type": "code",
      "metadata": {
        "id": "93yU5TL8PrOa",
        "colab_type": "code",
        "colab": {
          "base_uri": "https://localhost:8080/",
          "height": 68
        },
        "outputId": "cf6ed99f-740b-4e94-d01f-090b08a8ab68"
      },
      "source": [
        "# Import necesary tools\n",
        "import tensorflow as tf\n",
        "import tensorflow_hub as hub\n",
        "print(\"TF version:\", tf.__version__)\n",
        "print(\"TF Hub version\", hub.__version__)\n",
        "\n",
        "# Check for GPU availability\n",
        "print(\"GPU\", \"available (YESSSSSS!!!!!!)\" if tf.config.list_physical_devices(\"GPU\") else \"not available: :(\")\n"
      ],
      "execution_count": 1,
      "outputs": [
        {
          "output_type": "stream",
          "text": [
            "TF version: 2.2.0-rc3\n",
            "TF Hub version 0.8.0\n",
            "GPU available (YESSSSSS!!!!!!)\n"
          ],
          "name": "stdout"
        }
      ]
    },
    {
      "cell_type": "code",
      "metadata": {
        "id": "UK36lDt6XWPy",
        "colab_type": "code",
        "colab": {}
      },
      "source": [
        ""
      ],
      "execution_count": 0,
      "outputs": []
    }
  ]
}